{
 "cells": [
  {
   "cell_type": "code",
   "execution_count": 5,
   "metadata": {
    "collapsed": true
   },
   "outputs": [],
   "source": [
    "from collections import defaultdict\n",
    "from razdel import tokenize\n",
    "import json"
   ]
  },
  {
   "cell_type": "code",
   "execution_count": 2,
   "metadata": {
    "collapsed": true
   },
   "outputs": [],
   "source": [
    "# загружаем данные датасета nerus \n",
    "with open('nerus_lenta.conllu') as myfile:\n",
    "    data = myfile.readlines()"
   ]
  },
  {
   "cell_type": "code",
   "execution_count": 6,
   "metadata": {
    "jupyter": {
     "outputs_hidden": true
    },
    "scrolled": true
   },
   "outputs": [],
   "source": [
    "# составим словарь предложение: (NER, тип NER)\n",
    "sents = defaultdict(list)\n",
    "temp = []\n",
    "curr_sent = ''\n",
    "for el in data:\n",
    "    if '# text = ' in el:\n",
    "        if temp:\n",
    "            sents[curr_sent].append(temp)\n",
    "            temp = []\n",
    "        curr_sent = el[9:]\n",
    "    splits = el.split('\\t')\n",
    "    for ell in splits:\n",
    "        if ell == 'Tag=I-ORG\\n' or  ell == 'Tag=I-PER\\n' or  ell == 'Tag=I-LOC\\n':\n",
    "            temp.append((splits[1],splits[-1]))\n",
    "        if ell == 'Tag=B-ORG\\n' or  ell == 'Tag=B-PER\\n' or  ell == 'Tag=B-LOC\\n':\n",
    "            if not temp:\n",
    "                temp.append((splits[1],splits[-1]))\n",
    "            else:\n",
    "                sents[curr_sent].append(temp)\n",
    "                temp = []\n",
    "                temp.append((splits[1],splits[-1]))"
   ]
  },
  {
   "cell_type": "code",
   "execution_count": 7,
   "metadata": {
    "collapsed": true
   },
   "outputs": [],
   "source": [
    "# приведём словарь sents в вид:\n",
    "# {‘sentence’: [лист токенов предложения], \n",
    "#     ‘ner’: [{\n",
    "#          ‘index’: [индекс именованной сущности], \n",
    "#          ‘type’: наименование именованной сущности}]}\n",
    "\n",
    "list_for_json = []\n",
    "for k, v in sents.items():\n",
    "    temp = {}\n",
    "    temp['sentence'] = list(map(lambda x: x.text, tokenize(k))) \n",
    "    if len(temp['sentence']) > 100:\n",
    "        continue\n",
    "    temp_ner = []\n",
    "    for ner in v:\n",
    "        d = {}\n",
    "        ixs = []\n",
    "        type_ = ''\n",
    "        for NER, typ in ner:\n",
    "            ixs.append(temp['sentence'].index(NER))\n",
    "            type_ =  typ[6:9]\n",
    "        d['index'] = ixs\n",
    "        d['type'] = type_\n",
    "        temp_ner.append(d)\n",
    "    temp['ner'] = temp_ner\n",
    "    list_for_json.append(temp)"
   ]
  },
  {
   "cell_type": "code",
   "execution_count": 8,
   "metadata": {
    "collapsed": true
   },
   "outputs": [],
   "source": [
    "# сохраним данные в json файл\n",
    "with open('parsed_data.json', 'w', encoding='utf-8') as fp:\n",
    "    json.dump(list_for_json, fp, ensure_ascii=False)"
   ]
  },
  {
   "cell_type": "code",
   "execution_count": null,
   "metadata": {},
   "outputs": [],
   "source": []
  },
  {
   "cell_type": "code",
   "execution_count": null,
   "metadata": {
    "collapsed": true
   },
   "outputs": [],
   "source": []
  }
 ],
 "metadata": {
  "kernelspec": {
   "display_name": "Python 3",
   "language": "python",
   "name": "python3"
  },
  "language_info": {
   "codemirror_mode": {
    "name": "ipython",
    "version": 3
   },
   "file_extension": ".py",
   "mimetype": "text/x-python",
   "name": "python",
   "nbconvert_exporter": "python",
   "pygments_lexer": "ipython3",
   "version": "3.6.1"
  }
 },
 "nbformat": 4,
 "nbformat_minor": 4
}
